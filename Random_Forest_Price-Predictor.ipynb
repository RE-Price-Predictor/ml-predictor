{
 "cells": [
  {
   "cell_type": "code",
   "execution_count": 87,
   "id": "ebbfad15-7cd1-4a67-a970-a92d39a1a942",
   "metadata": {
    "tags": []
   },
   "outputs": [],
   "source": [
    "import pandas as pd\n",
    "from pathlib import Path\n",
    "import matplotlib.pyplot as plt\n",
    "import numpy as np\n",
    "%matplotlib inline\n",
    "from sklearn.ensemble import RandomForestRegressor\n",
    "from sklearn.preprocessing import StandardScaler\n",
    "from sklearn.model_selection import train_test_split\n",
    "from sklearn.metrics import confusion_matrix, accuracy_score, classification_report\n",
    "from sklearn.metrics import mean_absolute_error, mean_squared_error, r2_score\n",
    "import warnings"
   ]
  },
  {
   "cell_type": "code",
   "execution_count": 88,
   "id": "e17639f6-3fb2-41c1-9bd6-6b86f52cf4d6",
   "metadata": {
    "tags": []
   },
   "outputs": [
    {
     "data": {
      "text/html": [
       "<div>\n",
       "<style scoped>\n",
       "    .dataframe tbody tr th:only-of-type {\n",
       "        vertical-align: middle;\n",
       "    }\n",
       "\n",
       "    .dataframe tbody tr th {\n",
       "        vertical-align: top;\n",
       "    }\n",
       "\n",
       "    .dataframe thead th {\n",
       "        text-align: right;\n",
       "    }\n",
       "</style>\n",
       "<table border=\"1\" class=\"dataframe\">\n",
       "  <thead>\n",
       "    <tr style=\"text-align: right;\">\n",
       "      <th></th>\n",
       "      <th>zip_code</th>\n",
       "      <th>income</th>\n",
       "    </tr>\n",
       "  </thead>\n",
       "  <tbody>\n",
       "    <tr>\n",
       "      <th>0</th>\n",
       "      <td>10001</td>\n",
       "      <td>92840</td>\n",
       "    </tr>\n",
       "    <tr>\n",
       "      <th>1</th>\n",
       "      <td>10002</td>\n",
       "      <td>36982</td>\n",
       "    </tr>\n",
       "    <tr>\n",
       "      <th>2</th>\n",
       "      <td>10003</td>\n",
       "      <td>118161</td>\n",
       "    </tr>\n",
       "    <tr>\n",
       "      <th>3</th>\n",
       "      <td>10004</td>\n",
       "      <td>190223</td>\n",
       "    </tr>\n",
       "    <tr>\n",
       "      <th>4</th>\n",
       "      <td>10005</td>\n",
       "      <td>189702</td>\n",
       "    </tr>\n",
       "    <tr>\n",
       "      <th>5</th>\n",
       "      <td>10006</td>\n",
       "      <td>179044</td>\n",
       "    </tr>\n",
       "    <tr>\n",
       "      <th>6</th>\n",
       "      <td>10007</td>\n",
       "      <td>224063</td>\n",
       "    </tr>\n",
       "    <tr>\n",
       "      <th>7</th>\n",
       "      <td>10009</td>\n",
       "      <td>63717</td>\n",
       "    </tr>\n",
       "    <tr>\n",
       "      <th>8</th>\n",
       "      <td>10010</td>\n",
       "      <td>132988</td>\n",
       "    </tr>\n",
       "    <tr>\n",
       "      <th>9</th>\n",
       "      <td>10011</td>\n",
       "      <td>138272</td>\n",
       "    </tr>\n",
       "  </tbody>\n",
       "</table>\n",
       "</div>"
      ],
      "text/plain": [
       "   zip_code  income\n",
       "0     10001   92840\n",
       "1     10002   36982\n",
       "2     10003  118161\n",
       "3     10004  190223\n",
       "4     10005  189702\n",
       "5     10006  179044\n",
       "6     10007  224063\n",
       "7     10009   63717\n",
       "8     10010  132988\n",
       "9     10011  138272"
      ]
     },
     "execution_count": 88,
     "metadata": {},
     "output_type": "execute_result"
    }
   ],
   "source": [
    "# Read Cali Income by Zip \n",
    "file_path = Path(\"Resources/NY_ZIP_Income.csv\")\n",
    "df_ny_incomes = pd.read_csv(file_path, header=0)\n",
    "# Display sample data\n",
    "df_ny_incomes.head(10)"
   ]
  },
  {
   "cell_type": "code",
   "execution_count": 89,
   "id": "22ef04e5-cd6e-410d-9c58-9978f530d4c8",
   "metadata": {
    "tags": []
   },
   "outputs": [
    {
     "data": {
      "text/html": [
       "<div>\n",
       "<style scoped>\n",
       "    .dataframe tbody tr th:only-of-type {\n",
       "        vertical-align: middle;\n",
       "    }\n",
       "\n",
       "    .dataframe tbody tr th {\n",
       "        vertical-align: top;\n",
       "    }\n",
       "\n",
       "    .dataframe thead th {\n",
       "        text-align: right;\n",
       "    }\n",
       "</style>\n",
       "<table border=\"1\" class=\"dataframe\">\n",
       "  <thead>\n",
       "    <tr style=\"text-align: right;\">\n",
       "      <th></th>\n",
       "      <th>status</th>\n",
       "      <th>bed</th>\n",
       "      <th>bath</th>\n",
       "      <th>acre_lot</th>\n",
       "      <th>city</th>\n",
       "      <th>state</th>\n",
       "      <th>zip_code</th>\n",
       "      <th>house_size</th>\n",
       "      <th>prev_sold_date</th>\n",
       "      <th>price</th>\n",
       "    </tr>\n",
       "  </thead>\n",
       "  <tbody>\n",
       "    <tr>\n",
       "      <th>0</th>\n",
       "      <td>for_sale</td>\n",
       "      <td>3.0</td>\n",
       "      <td>2.0</td>\n",
       "      <td>0.12</td>\n",
       "      <td>Adjuntas</td>\n",
       "      <td>Puerto Rico</td>\n",
       "      <td>601.0</td>\n",
       "      <td>920.0</td>\n",
       "      <td>NaN</td>\n",
       "      <td>105000.0</td>\n",
       "    </tr>\n",
       "    <tr>\n",
       "      <th>1</th>\n",
       "      <td>for_sale</td>\n",
       "      <td>4.0</td>\n",
       "      <td>2.0</td>\n",
       "      <td>0.08</td>\n",
       "      <td>Adjuntas</td>\n",
       "      <td>Puerto Rico</td>\n",
       "      <td>601.0</td>\n",
       "      <td>1527.0</td>\n",
       "      <td>NaN</td>\n",
       "      <td>80000.0</td>\n",
       "    </tr>\n",
       "    <tr>\n",
       "      <th>2</th>\n",
       "      <td>for_sale</td>\n",
       "      <td>2.0</td>\n",
       "      <td>1.0</td>\n",
       "      <td>0.15</td>\n",
       "      <td>Juana Diaz</td>\n",
       "      <td>Puerto Rico</td>\n",
       "      <td>795.0</td>\n",
       "      <td>748.0</td>\n",
       "      <td>NaN</td>\n",
       "      <td>67000.0</td>\n",
       "    </tr>\n",
       "    <tr>\n",
       "      <th>3</th>\n",
       "      <td>for_sale</td>\n",
       "      <td>4.0</td>\n",
       "      <td>2.0</td>\n",
       "      <td>0.10</td>\n",
       "      <td>Ponce</td>\n",
       "      <td>Puerto Rico</td>\n",
       "      <td>731.0</td>\n",
       "      <td>1800.0</td>\n",
       "      <td>NaN</td>\n",
       "      <td>145000.0</td>\n",
       "    </tr>\n",
       "    <tr>\n",
       "      <th>4</th>\n",
       "      <td>for_sale</td>\n",
       "      <td>6.0</td>\n",
       "      <td>2.0</td>\n",
       "      <td>0.05</td>\n",
       "      <td>Mayaguez</td>\n",
       "      <td>Puerto Rico</td>\n",
       "      <td>680.0</td>\n",
       "      <td>NaN</td>\n",
       "      <td>NaN</td>\n",
       "      <td>65000.0</td>\n",
       "    </tr>\n",
       "    <tr>\n",
       "      <th>5</th>\n",
       "      <td>for_sale</td>\n",
       "      <td>4.0</td>\n",
       "      <td>3.0</td>\n",
       "      <td>0.46</td>\n",
       "      <td>San Sebastian</td>\n",
       "      <td>Puerto Rico</td>\n",
       "      <td>612.0</td>\n",
       "      <td>2520.0</td>\n",
       "      <td>NaN</td>\n",
       "      <td>179000.0</td>\n",
       "    </tr>\n",
       "    <tr>\n",
       "      <th>6</th>\n",
       "      <td>for_sale</td>\n",
       "      <td>3.0</td>\n",
       "      <td>1.0</td>\n",
       "      <td>0.20</td>\n",
       "      <td>Ciales</td>\n",
       "      <td>Puerto Rico</td>\n",
       "      <td>639.0</td>\n",
       "      <td>2040.0</td>\n",
       "      <td>NaN</td>\n",
       "      <td>50000.0</td>\n",
       "    </tr>\n",
       "    <tr>\n",
       "      <th>7</th>\n",
       "      <td>for_sale</td>\n",
       "      <td>3.0</td>\n",
       "      <td>2.0</td>\n",
       "      <td>0.08</td>\n",
       "      <td>Ponce</td>\n",
       "      <td>Puerto Rico</td>\n",
       "      <td>731.0</td>\n",
       "      <td>1050.0</td>\n",
       "      <td>NaN</td>\n",
       "      <td>71600.0</td>\n",
       "    </tr>\n",
       "    <tr>\n",
       "      <th>8</th>\n",
       "      <td>for_sale</td>\n",
       "      <td>2.0</td>\n",
       "      <td>1.0</td>\n",
       "      <td>0.09</td>\n",
       "      <td>Ponce</td>\n",
       "      <td>Puerto Rico</td>\n",
       "      <td>730.0</td>\n",
       "      <td>1092.0</td>\n",
       "      <td>NaN</td>\n",
       "      <td>100000.0</td>\n",
       "    </tr>\n",
       "    <tr>\n",
       "      <th>9</th>\n",
       "      <td>for_sale</td>\n",
       "      <td>5.0</td>\n",
       "      <td>3.0</td>\n",
       "      <td>7.46</td>\n",
       "      <td>Las Marias</td>\n",
       "      <td>Puerto Rico</td>\n",
       "      <td>670.0</td>\n",
       "      <td>5403.0</td>\n",
       "      <td>NaN</td>\n",
       "      <td>300000.0</td>\n",
       "    </tr>\n",
       "  </tbody>\n",
       "</table>\n",
       "</div>"
      ],
      "text/plain": [
       "     status  bed  bath  acre_lot           city        state  zip_code  \\\n",
       "0  for_sale  3.0   2.0      0.12       Adjuntas  Puerto Rico     601.0   \n",
       "1  for_sale  4.0   2.0      0.08       Adjuntas  Puerto Rico     601.0   \n",
       "2  for_sale  2.0   1.0      0.15     Juana Diaz  Puerto Rico     795.0   \n",
       "3  for_sale  4.0   2.0      0.10          Ponce  Puerto Rico     731.0   \n",
       "4  for_sale  6.0   2.0      0.05       Mayaguez  Puerto Rico     680.0   \n",
       "5  for_sale  4.0   3.0      0.46  San Sebastian  Puerto Rico     612.0   \n",
       "6  for_sale  3.0   1.0      0.20         Ciales  Puerto Rico     639.0   \n",
       "7  for_sale  3.0   2.0      0.08          Ponce  Puerto Rico     731.0   \n",
       "8  for_sale  2.0   1.0      0.09          Ponce  Puerto Rico     730.0   \n",
       "9  for_sale  5.0   3.0      7.46     Las Marias  Puerto Rico     670.0   \n",
       "\n",
       "   house_size prev_sold_date     price  \n",
       "0       920.0            NaN  105000.0  \n",
       "1      1527.0            NaN   80000.0  \n",
       "2       748.0            NaN   67000.0  \n",
       "3      1800.0            NaN  145000.0  \n",
       "4         NaN            NaN   65000.0  \n",
       "5      2520.0            NaN  179000.0  \n",
       "6      2040.0            NaN   50000.0  \n",
       "7      1050.0            NaN   71600.0  \n",
       "8      1092.0            NaN  100000.0  \n",
       "9      5403.0            NaN  300000.0  "
      ]
     },
     "execution_count": 89,
     "metadata": {},
     "output_type": "execute_result"
    }
   ],
   "source": [
    "# Read realtor data\n",
    "file_path = Path(\"Resources/realtor-data.csv\")\n",
    "df_realtor = pd.read_csv(file_path)\n",
    "# Display sample data\n",
    "df_realtor.head(10)"
   ]
  },
  {
   "cell_type": "code",
   "execution_count": 147,
   "id": "72591b3e",
   "metadata": {
    "tags": []
   },
   "outputs": [
    {
     "data": {
      "text/html": [
       "<div>\n",
       "<style scoped>\n",
       "    .dataframe tbody tr th:only-of-type {\n",
       "        vertical-align: middle;\n",
       "    }\n",
       "\n",
       "    .dataframe tbody tr th {\n",
       "        vertical-align: top;\n",
       "    }\n",
       "\n",
       "    .dataframe thead th {\n",
       "        text-align: right;\n",
       "    }\n",
       "</style>\n",
       "<table border=\"1\" class=\"dataframe\">\n",
       "  <thead>\n",
       "    <tr style=\"text-align: right;\">\n",
       "      <th></th>\n",
       "      <th>zip_code</th>\n",
       "      <th>income</th>\n",
       "      <th>status</th>\n",
       "      <th>bed</th>\n",
       "      <th>bath</th>\n",
       "      <th>acre_lot</th>\n",
       "      <th>city</th>\n",
       "      <th>state</th>\n",
       "      <th>house_size</th>\n",
       "      <th>prev_sold_date</th>\n",
       "      <th>price</th>\n",
       "    </tr>\n",
       "  </thead>\n",
       "  <tbody>\n",
       "    <tr>\n",
       "      <th>0</th>\n",
       "      <td>10001</td>\n",
       "      <td>92840</td>\n",
       "      <td>for_sale</td>\n",
       "      <td>2.0</td>\n",
       "      <td>2.0</td>\n",
       "      <td>NaN</td>\n",
       "      <td>New York City</td>\n",
       "      <td>New York</td>\n",
       "      <td>1200.0</td>\n",
       "      <td>NaN</td>\n",
       "      <td>1775000.0</td>\n",
       "    </tr>\n",
       "    <tr>\n",
       "      <th>1</th>\n",
       "      <td>10001</td>\n",
       "      <td>92840</td>\n",
       "      <td>for_sale</td>\n",
       "      <td>2.0</td>\n",
       "      <td>3.0</td>\n",
       "      <td>NaN</td>\n",
       "      <td>New York</td>\n",
       "      <td>New York</td>\n",
       "      <td>1459.0</td>\n",
       "      <td>4/26/16</td>\n",
       "      <td>2685000.0</td>\n",
       "    </tr>\n",
       "    <tr>\n",
       "      <th>2</th>\n",
       "      <td>10001</td>\n",
       "      <td>92840</td>\n",
       "      <td>for_sale</td>\n",
       "      <td>1.0</td>\n",
       "      <td>1.0</td>\n",
       "      <td>NaN</td>\n",
       "      <td>New York</td>\n",
       "      <td>New York</td>\n",
       "      <td>NaN</td>\n",
       "      <td>8/11/00</td>\n",
       "      <td>1295000.0</td>\n",
       "    </tr>\n",
       "    <tr>\n",
       "      <th>3</th>\n",
       "      <td>10001</td>\n",
       "      <td>92840</td>\n",
       "      <td>for_sale</td>\n",
       "      <td>2.0</td>\n",
       "      <td>3.0</td>\n",
       "      <td>NaN</td>\n",
       "      <td>New York</td>\n",
       "      <td>New York</td>\n",
       "      <td>1459.0</td>\n",
       "      <td>3/15/16</td>\n",
       "      <td>2700000.0</td>\n",
       "    </tr>\n",
       "    <tr>\n",
       "      <th>4</th>\n",
       "      <td>10001</td>\n",
       "      <td>92840</td>\n",
       "      <td>for_sale</td>\n",
       "      <td>3.0</td>\n",
       "      <td>3.0</td>\n",
       "      <td>NaN</td>\n",
       "      <td>New York</td>\n",
       "      <td>New York</td>\n",
       "      <td>2133.0</td>\n",
       "      <td>8/2/21</td>\n",
       "      <td>4800000.0</td>\n",
       "    </tr>\n",
       "    <tr>\n",
       "      <th>5</th>\n",
       "      <td>10001</td>\n",
       "      <td>92840</td>\n",
       "      <td>for_sale</td>\n",
       "      <td>3.0</td>\n",
       "      <td>4.0</td>\n",
       "      <td>NaN</td>\n",
       "      <td>New York</td>\n",
       "      <td>New York</td>\n",
       "      <td>2652.0</td>\n",
       "      <td>NaN</td>\n",
       "      <td>7995000.0</td>\n",
       "    </tr>\n",
       "    <tr>\n",
       "      <th>6</th>\n",
       "      <td>10001</td>\n",
       "      <td>92840</td>\n",
       "      <td>for_sale</td>\n",
       "      <td>3.0</td>\n",
       "      <td>4.0</td>\n",
       "      <td>NaN</td>\n",
       "      <td>New York</td>\n",
       "      <td>New York</td>\n",
       "      <td>2724.0</td>\n",
       "      <td>NaN</td>\n",
       "      <td>6950000.0</td>\n",
       "    </tr>\n",
       "    <tr>\n",
       "      <th>7</th>\n",
       "      <td>10001</td>\n",
       "      <td>92840</td>\n",
       "      <td>for_sale</td>\n",
       "      <td>1.0</td>\n",
       "      <td>2.0</td>\n",
       "      <td>NaN</td>\n",
       "      <td>New York</td>\n",
       "      <td>New York</td>\n",
       "      <td>1661.0</td>\n",
       "      <td>7/8/04</td>\n",
       "      <td>1988888.0</td>\n",
       "    </tr>\n",
       "    <tr>\n",
       "      <th>8</th>\n",
       "      <td>10001</td>\n",
       "      <td>92840</td>\n",
       "      <td>for_sale</td>\n",
       "      <td>NaN</td>\n",
       "      <td>1.0</td>\n",
       "      <td>NaN</td>\n",
       "      <td>New York City</td>\n",
       "      <td>New York</td>\n",
       "      <td>530.0</td>\n",
       "      <td>7/5/16</td>\n",
       "      <td>879995.0</td>\n",
       "    </tr>\n",
       "    <tr>\n",
       "      <th>9</th>\n",
       "      <td>10001</td>\n",
       "      <td>92840</td>\n",
       "      <td>for_sale</td>\n",
       "      <td>2.0</td>\n",
       "      <td>2.0</td>\n",
       "      <td>NaN</td>\n",
       "      <td>New York</td>\n",
       "      <td>New York</td>\n",
       "      <td>1351.0</td>\n",
       "      <td>10/2/13</td>\n",
       "      <td>2895000.0</td>\n",
       "    </tr>\n",
       "  </tbody>\n",
       "</table>\n",
       "</div>"
      ],
      "text/plain": [
       "   zip_code  income    status  bed  bath  acre_lot           city     state  \\\n",
       "0     10001   92840  for_sale  2.0   2.0       NaN  New York City  New York   \n",
       "1     10001   92840  for_sale  2.0   3.0       NaN       New York  New York   \n",
       "2     10001   92840  for_sale  1.0   1.0       NaN       New York  New York   \n",
       "3     10001   92840  for_sale  2.0   3.0       NaN       New York  New York   \n",
       "4     10001   92840  for_sale  3.0   3.0       NaN       New York  New York   \n",
       "5     10001   92840  for_sale  3.0   4.0       NaN       New York  New York   \n",
       "6     10001   92840  for_sale  3.0   4.0       NaN       New York  New York   \n",
       "7     10001   92840  for_sale  1.0   2.0       NaN       New York  New York   \n",
       "8     10001   92840  for_sale  NaN   1.0       NaN  New York City  New York   \n",
       "9     10001   92840  for_sale  2.0   2.0       NaN       New York  New York   \n",
       "\n",
       "   house_size prev_sold_date      price  \n",
       "0      1200.0            NaN  1775000.0  \n",
       "1      1459.0        4/26/16  2685000.0  \n",
       "2         NaN        8/11/00  1295000.0  \n",
       "3      1459.0        3/15/16  2700000.0  \n",
       "4      2133.0         8/2/21  4800000.0  \n",
       "5      2652.0            NaN  7995000.0  \n",
       "6      2724.0            NaN  6950000.0  \n",
       "7      1661.0         7/8/04  1988888.0  \n",
       "8       530.0         7/5/16   879995.0  \n",
       "9      1351.0        10/2/13  2895000.0  "
      ]
     },
     "execution_count": 147,
     "metadata": {},
     "output_type": "execute_result"
    }
   ],
   "source": [
    "joined_df = pd.merge(df_ny_incomes, df_realtor, on='zip_code')\n",
    "joined_df.head(10)"
   ]
  },
  {
   "cell_type": "code",
   "execution_count": 148,
   "id": "efa2aac7",
   "metadata": {
    "tags": []
   },
   "outputs": [],
   "source": [
    "joined_df3 = joined_df.loc[:,[\"zip_code\",\"income\", \"status\", \"bed\", \"bath\", \"city\", \"state\", \"house_size\", \"prev_sold_date\", \"price\" ]]"
   ]
  },
  {
   "cell_type": "code",
   "execution_count": 149,
   "id": "ab62d0b9",
   "metadata": {
    "tags": []
   },
   "outputs": [
    {
     "data": {
      "text/html": [
       "<div>\n",
       "<style scoped>\n",
       "    .dataframe tbody tr th:only-of-type {\n",
       "        vertical-align: middle;\n",
       "    }\n",
       "\n",
       "    .dataframe tbody tr th {\n",
       "        vertical-align: top;\n",
       "    }\n",
       "\n",
       "    .dataframe thead th {\n",
       "        text-align: right;\n",
       "    }\n",
       "</style>\n",
       "<table border=\"1\" class=\"dataframe\">\n",
       "  <thead>\n",
       "    <tr style=\"text-align: right;\">\n",
       "      <th></th>\n",
       "      <th>zip_code</th>\n",
       "      <th>income</th>\n",
       "      <th>status</th>\n",
       "      <th>bed</th>\n",
       "      <th>bath</th>\n",
       "      <th>city</th>\n",
       "      <th>state</th>\n",
       "      <th>house_size</th>\n",
       "      <th>prev_sold_date</th>\n",
       "      <th>price</th>\n",
       "    </tr>\n",
       "  </thead>\n",
       "  <tbody>\n",
       "    <tr>\n",
       "      <th>0</th>\n",
       "      <td>10001</td>\n",
       "      <td>92840</td>\n",
       "      <td>for_sale</td>\n",
       "      <td>2.0</td>\n",
       "      <td>2.0</td>\n",
       "      <td>New York City</td>\n",
       "      <td>New York</td>\n",
       "      <td>1200.0</td>\n",
       "      <td>NaN</td>\n",
       "      <td>1775000.0</td>\n",
       "    </tr>\n",
       "    <tr>\n",
       "      <th>1</th>\n",
       "      <td>10001</td>\n",
       "      <td>92840</td>\n",
       "      <td>for_sale</td>\n",
       "      <td>2.0</td>\n",
       "      <td>3.0</td>\n",
       "      <td>New York</td>\n",
       "      <td>New York</td>\n",
       "      <td>1459.0</td>\n",
       "      <td>4/26/16</td>\n",
       "      <td>2685000.0</td>\n",
       "    </tr>\n",
       "    <tr>\n",
       "      <th>2</th>\n",
       "      <td>10001</td>\n",
       "      <td>92840</td>\n",
       "      <td>for_sale</td>\n",
       "      <td>1.0</td>\n",
       "      <td>1.0</td>\n",
       "      <td>New York</td>\n",
       "      <td>New York</td>\n",
       "      <td>NaN</td>\n",
       "      <td>8/11/00</td>\n",
       "      <td>1295000.0</td>\n",
       "    </tr>\n",
       "    <tr>\n",
       "      <th>3</th>\n",
       "      <td>10001</td>\n",
       "      <td>92840</td>\n",
       "      <td>for_sale</td>\n",
       "      <td>2.0</td>\n",
       "      <td>3.0</td>\n",
       "      <td>New York</td>\n",
       "      <td>New York</td>\n",
       "      <td>1459.0</td>\n",
       "      <td>3/15/16</td>\n",
       "      <td>2700000.0</td>\n",
       "    </tr>\n",
       "    <tr>\n",
       "      <th>4</th>\n",
       "      <td>10001</td>\n",
       "      <td>92840</td>\n",
       "      <td>for_sale</td>\n",
       "      <td>3.0</td>\n",
       "      <td>3.0</td>\n",
       "      <td>New York</td>\n",
       "      <td>New York</td>\n",
       "      <td>2133.0</td>\n",
       "      <td>8/2/21</td>\n",
       "      <td>4800000.0</td>\n",
       "    </tr>\n",
       "  </tbody>\n",
       "</table>\n",
       "</div>"
      ],
      "text/plain": [
       "   zip_code  income    status  bed  bath           city     state  house_size  \\\n",
       "0     10001   92840  for_sale  2.0   2.0  New York City  New York      1200.0   \n",
       "1     10001   92840  for_sale  2.0   3.0       New York  New York      1459.0   \n",
       "2     10001   92840  for_sale  1.0   1.0       New York  New York         NaN   \n",
       "3     10001   92840  for_sale  2.0   3.0       New York  New York      1459.0   \n",
       "4     10001   92840  for_sale  3.0   3.0       New York  New York      2133.0   \n",
       "\n",
       "  prev_sold_date      price  \n",
       "0            NaN  1775000.0  \n",
       "1        4/26/16  2685000.0  \n",
       "2        8/11/00  1295000.0  \n",
       "3        3/15/16  2700000.0  \n",
       "4         8/2/21  4800000.0  "
      ]
     },
     "execution_count": 149,
     "metadata": {},
     "output_type": "execute_result"
    }
   ],
   "source": [
    "joined_df3.head()"
   ]
  },
  {
   "cell_type": "code",
   "execution_count": 170,
   "id": "3db5d65a-6b77-4a14-917c-e7f99aa173df",
   "metadata": {
    "tags": []
   },
   "outputs": [],
   "source": [
    "joined_df3['prev_sold_date']=pd.to_datetime(joined_df3['prev_sold_date'])\n",
    "joined_df3['inflation_adj_factor']=1.03**(2023-joined_df3['prev_sold_date'].dt.year)\n",
    "joined_df3['price_adj']=joined_df3['inflation_adj_factor']*joined_df3['price']"
   ]
  },
  {
   "cell_type": "code",
   "execution_count": 256,
   "id": "ee2bfd8e-523b-48fd-99d2-6ad5b3b6fef8",
   "metadata": {
    "tags": []
   },
   "outputs": [
    {
     "data": {
      "text/plain": [
       "zip_code\n",
       "10001    1303\n",
       "10002    1548\n",
       "10003    3317\n",
       "10004     705\n",
       "10005    1227\n",
       "         ... \n",
       "11691      56\n",
       "11692     106\n",
       "11693     195\n",
       "11694     138\n",
       "11697      10\n",
       "Length: 179, dtype: int64"
      ]
     },
     "execution_count": 256,
     "metadata": {},
     "output_type": "execute_result"
    }
   ],
   "source": [
    "joined_df3.groupby('zip_code').size()"
   ]
  },
  {
   "cell_type": "code",
   "execution_count": 257,
   "id": "c70349f0-a5ae-470c-a6c5-6d2dc996f88d",
   "metadata": {
    "tags": []
   },
   "outputs": [
    {
     "data": {
      "text/plain": [
       "<Axes: xlabel='prev_sold_date'>"
      ]
     },
     "execution_count": 257,
     "metadata": {},
     "output_type": "execute_result"
    },
    {
     "data": {
      "image/png": "[encoded data removed]",
      "text/plain": [
       "<Figure size 640x480 with 1 Axes>"
      ]
     },
     "metadata": {},
     "output_type": "display_data"
    }
   ],
   "source": [
    "joined_df3['pps']=joined_df3['price']/joined_df3['house_size']\n",
    "joined_df3.loc[(joined_df3['zip_code']==10003) & (joined_df3['pps']<2000)].plot(x='prev_sold_date', y='pps')"
   ]
  },
  {
   "cell_type": "code",
   "execution_count": 171,
   "id": "326fc938-bb0a-488f-ab97-499ae3911a40",
   "metadata": {
    "tags": []
   },
   "outputs": [
    {
     "data": {
      "text/html": [
       "<div>\n",
       "<style scoped>\n",
       "    .dataframe tbody tr th:only-of-type {\n",
       "        vertical-align: middle;\n",
       "    }\n",
       "\n",
       "    .dataframe tbody tr th {\n",
       "        vertical-align: top;\n",
       "    }\n",
       "\n",
       "    .dataframe thead th {\n",
       "        text-align: right;\n",
       "    }\n",
       "</style>\n",
       "<table border=\"1\" class=\"dataframe\">\n",
       "  <thead>\n",
       "    <tr style=\"text-align: right;\">\n",
       "      <th></th>\n",
       "      <th>zip_code</th>\n",
       "      <th>income</th>\n",
       "      <th>status</th>\n",
       "      <th>bed</th>\n",
       "      <th>bath</th>\n",
       "      <th>city</th>\n",
       "      <th>state</th>\n",
       "      <th>house_size</th>\n",
       "      <th>prev_sold_date</th>\n",
       "      <th>price</th>\n",
       "      <th>inflation_adj_factor</th>\n",
       "      <th>price_adj</th>\n",
       "    </tr>\n",
       "  </thead>\n",
       "  <tbody>\n",
       "    <tr>\n",
       "      <th>0</th>\n",
       "      <td>10001</td>\n",
       "      <td>92840</td>\n",
       "      <td>for_sale</td>\n",
       "      <td>2.0</td>\n",
       "      <td>2.0</td>\n",
       "      <td>New York City</td>\n",
       "      <td>New York</td>\n",
       "      <td>1200.0</td>\n",
       "      <td>NaT</td>\n",
       "      <td>1775000.0</td>\n",
       "      <td>NaN</td>\n",
       "      <td>NaN</td>\n",
       "    </tr>\n",
       "    <tr>\n",
       "      <th>1</th>\n",
       "      <td>10001</td>\n",
       "      <td>92840</td>\n",
       "      <td>for_sale</td>\n",
       "      <td>2.0</td>\n",
       "      <td>3.0</td>\n",
       "      <td>New York</td>\n",
       "      <td>New York</td>\n",
       "      <td>1459.0</td>\n",
       "      <td>2016-04-26</td>\n",
       "      <td>2685000.0</td>\n",
       "      <td>1.229874</td>\n",
       "      <td>3.302211e+06</td>\n",
       "    </tr>\n",
       "    <tr>\n",
       "      <th>2</th>\n",
       "      <td>10001</td>\n",
       "      <td>92840</td>\n",
       "      <td>for_sale</td>\n",
       "      <td>1.0</td>\n",
       "      <td>1.0</td>\n",
       "      <td>New York</td>\n",
       "      <td>New York</td>\n",
       "      <td>NaN</td>\n",
       "      <td>2000-08-11</td>\n",
       "      <td>1295000.0</td>\n",
       "      <td>1.973587</td>\n",
       "      <td>2.555795e+06</td>\n",
       "    </tr>\n",
       "    <tr>\n",
       "      <th>3</th>\n",
       "      <td>10001</td>\n",
       "      <td>92840</td>\n",
       "      <td>for_sale</td>\n",
       "      <td>2.0</td>\n",
       "      <td>3.0</td>\n",
       "      <td>New York</td>\n",
       "      <td>New York</td>\n",
       "      <td>1459.0</td>\n",
       "      <td>2016-03-15</td>\n",
       "      <td>2700000.0</td>\n",
       "      <td>1.229874</td>\n",
       "      <td>3.320659e+06</td>\n",
       "    </tr>\n",
       "    <tr>\n",
       "      <th>4</th>\n",
       "      <td>10001</td>\n",
       "      <td>92840</td>\n",
       "      <td>for_sale</td>\n",
       "      <td>3.0</td>\n",
       "      <td>3.0</td>\n",
       "      <td>New York</td>\n",
       "      <td>New York</td>\n",
       "      <td>2133.0</td>\n",
       "      <td>2021-08-02</td>\n",
       "      <td>4800000.0</td>\n",
       "      <td>1.060900</td>\n",
       "      <td>5.092320e+06</td>\n",
       "    </tr>\n",
       "  </tbody>\n",
       "</table>\n",
       "</div>"
      ],
      "text/plain": [
       "   zip_code  income    status  bed  bath           city     state  house_size  \\\n",
       "0     10001   92840  for_sale  2.0   2.0  New York City  New York      1200.0   \n",
       "1     10001   92840  for_sale  2.0   3.0       New York  New York      1459.0   \n",
       "2     10001   92840  for_sale  1.0   1.0       New York  New York         NaN   \n",
       "3     10001   92840  for_sale  2.0   3.0       New York  New York      1459.0   \n",
       "4     10001   92840  for_sale  3.0   3.0       New York  New York      2133.0   \n",
       "\n",
       "  prev_sold_date      price  inflation_adj_factor     price_adj  \n",
       "0            NaT  1775000.0                   NaN           NaN  \n",
       "1     2016-04-26  2685000.0              1.229874  3.302211e+06  \n",
       "2     2000-08-11  1295000.0              1.973587  2.555795e+06  \n",
       "3     2016-03-15  2700000.0              1.229874  3.320659e+06  \n",
       "4     2021-08-02  4800000.0              1.060900  5.092320e+06  "
      ]
     },
     "execution_count": 171,
     "metadata": {},
     "output_type": "execute_result"
    }
   ],
   "source": [
    "joined_df3.head()"
   ]
  },
  {
   "cell_type": "code",
   "execution_count": 235,
   "id": "b5bf8cee",
   "metadata": {
    "tags": []
   },
   "outputs": [
    {
     "data": {
      "text/html": [
       "<div>\n",
       "<style scoped>\n",
       "    .dataframe tbody tr th:only-of-type {\n",
       "        vertical-align: middle;\n",
       "    }\n",
       "\n",
       "    .dataframe tbody tr th {\n",
       "        vertical-align: top;\n",
       "    }\n",
       "\n",
       "    .dataframe thead th {\n",
       "        text-align: right;\n",
       "    }\n",
       "</style>\n",
       "<table border=\"1\" class=\"dataframe\">\n",
       "  <thead>\n",
       "    <tr style=\"text-align: right;\">\n",
       "      <th></th>\n",
       "      <th>zip_code</th>\n",
       "      <th>income</th>\n",
       "      <th>status</th>\n",
       "      <th>bed</th>\n",
       "      <th>bath</th>\n",
       "      <th>city</th>\n",
       "      <th>state</th>\n",
       "      <th>house_size</th>\n",
       "      <th>prev_sold_date</th>\n",
       "      <th>price</th>\n",
       "      <th>inflation_adj_factor</th>\n",
       "      <th>price_adj</th>\n",
       "    </tr>\n",
       "  </thead>\n",
       "  <tbody>\n",
       "    <tr>\n",
       "      <th>7</th>\n",
       "      <td>10001</td>\n",
       "      <td>92840</td>\n",
       "      <td>for_sale</td>\n",
       "      <td>1.0</td>\n",
       "      <td>2.0</td>\n",
       "      <td>New York</td>\n",
       "      <td>New York</td>\n",
       "      <td>1661.0</td>\n",
       "      <td>2004-07-08</td>\n",
       "      <td>1988888.0</td>\n",
       "      <td>1.753506</td>\n",
       "      <td>3.487527e+06</td>\n",
       "    </tr>\n",
       "    <tr>\n",
       "      <th>10</th>\n",
       "      <td>10001</td>\n",
       "      <td>92840</td>\n",
       "      <td>for_sale</td>\n",
       "      <td>2.0</td>\n",
       "      <td>2.0</td>\n",
       "      <td>New York</td>\n",
       "      <td>New York</td>\n",
       "      <td>1257.0</td>\n",
       "      <td>2008-06-10</td>\n",
       "      <td>1775000.0</td>\n",
       "      <td>1.557967</td>\n",
       "      <td>2.765392e+06</td>\n",
       "    </tr>\n",
       "    <tr>\n",
       "      <th>15</th>\n",
       "      <td>10001</td>\n",
       "      <td>92840</td>\n",
       "      <td>for_sale</td>\n",
       "      <td>1.0</td>\n",
       "      <td>2.0</td>\n",
       "      <td>New York City</td>\n",
       "      <td>New York</td>\n",
       "      <td>1339.0</td>\n",
       "      <td>2016-02-16</td>\n",
       "      <td>1875000.0</td>\n",
       "      <td>1.229874</td>\n",
       "      <td>2.306013e+06</td>\n",
       "    </tr>\n",
       "    <tr>\n",
       "      <th>22</th>\n",
       "      <td>10001</td>\n",
       "      <td>92840</td>\n",
       "      <td>for_sale</td>\n",
       "      <td>1.0</td>\n",
       "      <td>1.0</td>\n",
       "      <td>New York City</td>\n",
       "      <td>New York</td>\n",
       "      <td>980.0</td>\n",
       "      <td>2012-06-05</td>\n",
       "      <td>1500000.0</td>\n",
       "      <td>1.384234</td>\n",
       "      <td>2.076351e+06</td>\n",
       "    </tr>\n",
       "    <tr>\n",
       "      <th>27</th>\n",
       "      <td>10001</td>\n",
       "      <td>92840</td>\n",
       "      <td>for_sale</td>\n",
       "      <td>2.0</td>\n",
       "      <td>2.0</td>\n",
       "      <td>New York City</td>\n",
       "      <td>New York</td>\n",
       "      <td>1300.0</td>\n",
       "      <td>2019-07-24</td>\n",
       "      <td>1475000.0</td>\n",
       "      <td>1.125509</td>\n",
       "      <td>1.660125e+06</td>\n",
       "    </tr>\n",
       "  </tbody>\n",
       "</table>\n",
       "</div>"
      ],
      "text/plain": [
       "    zip_code  income    status  bed  bath           city     state  \\\n",
       "7      10001   92840  for_sale  1.0   2.0       New York  New York   \n",
       "10     10001   92840  for_sale  2.0   2.0       New York  New York   \n",
       "15     10001   92840  for_sale  1.0   2.0  New York City  New York   \n",
       "22     10001   92840  for_sale  1.0   1.0  New York City  New York   \n",
       "27     10001   92840  for_sale  2.0   2.0  New York City  New York   \n",
       "\n",
       "    house_size prev_sold_date      price  inflation_adj_factor     price_adj  \n",
       "7       1661.0     2004-07-08  1988888.0              1.753506  3.487527e+06  \n",
       "10      1257.0     2008-06-10  1775000.0              1.557967  2.765392e+06  \n",
       "15      1339.0     2016-02-16  1875000.0              1.229874  2.306013e+06  \n",
       "22       980.0     2012-06-05  1500000.0              1.384234  2.076351e+06  \n",
       "27      1300.0     2019-07-24  1475000.0              1.125509  1.660125e+06  "
      ]
     },
     "execution_count": 235,
     "metadata": {},
     "output_type": "execute_result"
    }
   ],
   "source": [
    "# Clean the Realtor data\n",
    "clean_df =  joined_df3.dropna()\n",
    "\n",
    "filter_df=clean_df['price']<2000000\n",
    "clean_df=clean_df.loc[filter_df]\n",
    "\n",
    "clean_df.head()"
   ]
  },
  {
   "cell_type": "code",
   "execution_count": 236,
   "id": "0e4f53a1-0494-4bd7-a147-89bcef3616c2",
   "metadata": {
    "tags": []
   },
   "outputs": [
    {
     "data": {
      "text/plain": [
       "554424"
      ]
     },
     "execution_count": 236,
     "metadata": {},
     "output_type": "execute_result"
    }
   ],
   "source": [
    "clean_df.size"
   ]
  },
  {
   "cell_type": "code",
   "execution_count": 237,
   "id": "f6692e07-6400-4685-a944-8e9922b9fb9d",
   "metadata": {
    "tags": []
   },
   "outputs": [
    {
     "data": {
      "text/plain": [
       "zip_code\n",
       "10001    168\n",
       "10002    156\n",
       "10003    424\n",
       "10004    146\n",
       "10005    264\n",
       "        ... \n",
       "11436    102\n",
       "11691     12\n",
       "11692     29\n",
       "11693    106\n",
       "11694     51\n",
       "Length: 177, dtype: int64"
      ]
     },
     "execution_count": 237,
     "metadata": {},
     "output_type": "execute_result"
    }
   ],
   "source": [
    "clean_df.groupby('zip_code').size()"
   ]
  },
  {
   "cell_type": "code",
   "execution_count": 238,
   "id": "e484a508-8fb5-4d38-8e31-bc2c95c50b29",
   "metadata": {
    "tags": []
   },
   "outputs": [
    {
     "data": {
      "text/plain": [
       "array([3487527.14689241, 2765392.16446636, 2306013.49767163,\n",
       "       2076350.80608667, 1660125.49475   ])"
      ]
     },
     "execution_count": 238,
     "metadata": {},
     "output_type": "execute_result"
    }
   ],
   "source": [
    "# Define target vector\n",
    "y = clean_df[\"price_adj\"].ravel()\n",
    "y[:5]"
   ]
  },
  {
   "cell_type": "code",
   "execution_count": 239,
   "id": "11c6c820-447b-4b47-bca3-e52a2363a2d6",
   "metadata": {
    "tags": []
   },
   "outputs": [
    {
     "data": {
      "text/html": [
       "<div>\n",
       "<style scoped>\n",
       "    .dataframe tbody tr th:only-of-type {\n",
       "        vertical-align: middle;\n",
       "    }\n",
       "\n",
       "    .dataframe tbody tr th {\n",
       "        vertical-align: top;\n",
       "    }\n",
       "\n",
       "    .dataframe thead th {\n",
       "        text-align: right;\n",
       "    }\n",
       "</style>\n",
       "<table border=\"1\" class=\"dataframe\">\n",
       "  <thead>\n",
       "    <tr style=\"text-align: right;\">\n",
       "      <th></th>\n",
       "      <th>bed</th>\n",
       "      <th>bath</th>\n",
       "      <th>house_size</th>\n",
       "      <th>income</th>\n",
       "    </tr>\n",
       "  </thead>\n",
       "  <tbody>\n",
       "    <tr>\n",
       "      <th>7</th>\n",
       "      <td>1.0</td>\n",
       "      <td>2.0</td>\n",
       "      <td>1661.0</td>\n",
       "      <td>92840</td>\n",
       "    </tr>\n",
       "    <tr>\n",
       "      <th>10</th>\n",
       "      <td>2.0</td>\n",
       "      <td>2.0</td>\n",
       "      <td>1257.0</td>\n",
       "      <td>92840</td>\n",
       "    </tr>\n",
       "    <tr>\n",
       "      <th>15</th>\n",
       "      <td>1.0</td>\n",
       "      <td>2.0</td>\n",
       "      <td>1339.0</td>\n",
       "      <td>92840</td>\n",
       "    </tr>\n",
       "    <tr>\n",
       "      <th>22</th>\n",
       "      <td>1.0</td>\n",
       "      <td>1.0</td>\n",
       "      <td>980.0</td>\n",
       "      <td>92840</td>\n",
       "    </tr>\n",
       "    <tr>\n",
       "      <th>27</th>\n",
       "      <td>2.0</td>\n",
       "      <td>2.0</td>\n",
       "      <td>1300.0</td>\n",
       "      <td>92840</td>\n",
       "    </tr>\n",
       "  </tbody>\n",
       "</table>\n",
       "</div>"
      ],
      "text/plain": [
       "    bed  bath  house_size  income\n",
       "7   1.0   2.0      1661.0   92840\n",
       "10  2.0   2.0      1257.0   92840\n",
       "15  1.0   2.0      1339.0   92840\n",
       "22  1.0   1.0       980.0   92840\n",
       "27  2.0   2.0      1300.0   92840"
      ]
     },
     "execution_count": 239,
     "metadata": {},
     "output_type": "execute_result"
    }
   ],
   "source": [
    "# Define features set\n",
    "# X = clean_df.drop(columns=['price', 'prev_sold_date', 'status', 'state', 'city', 'zip_code', 'income'])\n",
    "X=clean_df[['bed', 'bath', 'house_size', 'income']]\n",
    "X.head()"
   ]
  },
  {
   "cell_type": "code",
   "execution_count": 240,
   "id": "fffc0d78-757e-43eb-8db9-47948356e56b",
   "metadata": {
    "tags": []
   },
   "outputs": [],
   "source": [
    "# Splitting into Train and Test sets\n",
    "X_train, X_test, y_train, y_test = train_test_split(X, y, random_state=42)"
   ]
  },
  {
   "cell_type": "code",
   "execution_count": 241,
   "id": "a9fd0a01-c880-4aaa-9cff-16e4186c342b",
   "metadata": {
    "tags": []
   },
   "outputs": [],
   "source": [
    "# Create the StandardScaler instance\n",
    "scaler = StandardScaler()"
   ]
  },
  {
   "cell_type": "code",
   "execution_count": 242,
   "id": "c09d974c-c671-4e50-a201-8cc8d51a7d50",
   "metadata": {
    "tags": []
   },
   "outputs": [],
   "source": [
    "# Fit the Standard Scaler with the training data\n",
    "X_scaler = scaler.fit(X_train)"
   ]
  },
  {
   "cell_type": "code",
   "execution_count": 243,
   "id": "213a4384-be57-47d4-bd5c-7379a8aa0dc6",
   "metadata": {
    "tags": []
   },
   "outputs": [],
   "source": [
    "# Scale the training data\n",
    "X_train_scaled = X_scaler.transform(X_train)\n",
    "X_test_scaled = X_scaler.transform(X_test)"
   ]
  },
  {
   "cell_type": "code",
   "execution_count": 244,
   "id": "5ad4c0b3-2999-4efd-9193-e27447c1020a",
   "metadata": {
    "tags": []
   },
   "outputs": [],
   "source": [
    "# Create the random forest classifier instance\n",
    "rf_model = RandomForestRegressor(n_estimators=100, random_state=42)"
   ]
  },
  {
   "cell_type": "code",
   "execution_count": 245,
   "id": "f29a29b8-3825-4cea-a182-062e3e904a18",
   "metadata": {
    "tags": []
   },
   "outputs": [],
   "source": [
    "# Fit the model\n",
    "rf_model = rf_model.fit(X_train_scaled, y_train)"
   ]
  },
  {
   "cell_type": "code",
   "execution_count": 246,
   "id": "39e5b2cc-948d-45ba-b5fb-dfb1306f8684",
   "metadata": {
    "tags": []
   },
   "outputs": [],
   "source": [
    "# Making predictions using the testing data\n",
    "predictions = rf_model.predict(X_test_scaled)"
   ]
  },
  {
   "cell_type": "code",
   "execution_count": 247,
   "id": "3ff72059-2a1f-4100-b9b0-73f3d76e85c1",
   "metadata": {
    "tags": []
   },
   "outputs": [
    {
     "name": "stdout",
     "output_type": "stream",
     "text": [
      "MAE: 42250.62209483996\n",
      "MSE: 27186379917.036556\n",
      "RMSE: 164882.9279126149\n",
      "R^2: 0.9599638264139896\n"
     ]
    }
   ],
   "source": [
    "# Evaluate the model\n",
    "mae = mean_absolute_error(y_test, predictions)\n",
    "mse = mean_squared_error(y_test, predictions)\n",
    "rmse = np.sqrt(mse)\n",
    "r2 = r2_score(y_test, predictions)\n",
    "\n",
    "print(f'MAE: {mae}')\n",
    "print(f'MSE: {mse}')\n",
    "print(f'RMSE: {rmse}')\n",
    "print(f'R^2: {r2}')"
   ]
  },
  {
   "cell_type": "code",
   "execution_count": 248,
   "id": "6828a6cd-4a89-42ac-9376-4f424d54cf24",
   "metadata": {
    "tags": []
   },
   "outputs": [],
   "source": [
    "# y='price'\n",
    "# X include income\n",
    "\n",
    "# MAE: 63861.89336451859\n",
    "# MSE: 132787921713.9747\n",
    "# RMSE: 364400.77073735\n",
    "# R^2: 0.9762399593710123"
   ]
  },
  {
   "cell_type": "code",
   "execution_count": 249,
   "id": "8add3931-ba26-4ecc-9ccc-777a15251101",
   "metadata": {
    "tags": []
   },
   "outputs": [],
   "source": [
    "# y='price'\n",
    "# X include income\n",
    "\n",
    "# MAE: 32790.92932188534\n",
    "# MSE: 29392074684.157974\n",
    "# RMSE: 171441.1697468201\n",
    "# R^2: 0.9840694932421454"
   ]
  },
  {
   "cell_type": "code",
   "execution_count": 205,
   "id": "4997ba1a-61fc-469f-8ba6-6d2561d29e3d",
   "metadata": {
    "tags": []
   },
   "outputs": [],
   "source": [
    "# y='price_adj'\n",
    "\n",
    "# MAE: 283369.0945515008\n",
    "# MSE: 457622569855.35785\n",
    "# RMSE: 676478.0630998745\n",
    "# R^2: 0.9181165672889602"
   ]
  },
  {
   "cell_type": "markdown",
   "id": "0d1422b7-b819-4967-b76a-6bf368bb4355",
   "metadata": {},
   "source": [
    "### R-Squared (R²) = 0.9939\n",
    "#### This is a very high R² value, indicating that the model explains 99.39% of the variance. It suggests an excellent fit to the data. However, an R² value this high can sometimes be a sign of overfitting.\n",
    "\n",
    "### MAE = 34488.45\n",
    "#### The MAE is relatively high. The model's predictions are approximately $34,488.45 away from the actual values. \n",
    "\n",
    "### MSE=377278448995\n",
    "#### This is the average of the squares of the errors between predicted and actual values. Lower values of MSE are better. \n",
    "\n",
    "### RMSE = 614229.96\n",
    "#### Lower values of RMSE are better. An RMSE of $614,229.96 means that the model's predictions are off by this amount on average. The value is also relatively high."
   ]
  },
  {
   "cell_type": "code",
   "execution_count": 234,
   "id": "52d97172-e77c-42ea-91f7-b23b502ba853",
   "metadata": {
    "tags": []
   },
   "outputs": [
    {
     "data": {
      "image/png": "[encoded data removed]",
      "text/plain": [
       "<Figure size 640x480 with 1 Axes>"
      ]
     },
     "metadata": {},
     "output_type": "display_data"
    }
   ],
   "source": [
    "# Plot actual vs predicted\n",
    "plt.scatter(y_test, predictions)\n",
    "plt.xlabel('Actual Prices')\n",
    "plt.ylabel('Predicted Prices')\n",
    "plt.title('Actual vs Predicted Prices')\n",
    "plt.show()"
   ]
  },
  {
   "cell_type": "code",
   "execution_count": 139,
   "id": "92cd8133-b4f6-46e5-947d-a3d5a01a2bbb",
   "metadata": {
    "tags": []
   },
   "outputs": [
    {
     "data": {
      "text/plain": [
       "[(0.7266556054319832, 'house_size'),\n",
       " (0.17375599601666414, 'bed'),\n",
       " (0.09958839855135271, 'bath')]"
      ]
     },
     "execution_count": 139,
     "metadata": {},
     "output_type": "execute_result"
    }
   ],
   "source": [
    "sorted(list(zip(rf_model.feature_importances_, X.columns)), reverse=True)"
   ]
  },
  {
   "cell_type": "code",
   "execution_count": null,
   "id": "88dfd062-bfae-4224-adc0-0e499615dd30",
   "metadata": {},
   "outputs": [],
   "source": []
  },
  {
   "cell_type": "code",
   "execution_count": null,
   "id": "090c6a33-b3dd-426d-81f9-844adeec2010",
   "metadata": {},
   "outputs": [],
   "source": []
  },
  {
   "cell_type": "code",
   "execution_count": null,
   "id": "a6b6204d-5cb5-4135-88d1-cb7918a2cd40",
   "metadata": {},
   "outputs": [],
   "source": []
  }
 ],
 "metadata": {
  "kernelspec": {
   "display_name": "Python 3 (ipykernel)",
   "language": "python",
   "name": "python3"
  },
  "language_info": {
   "codemirror_mode": {
    "name": "ipython",
    "version": 3
   },
   "file_extension": ".py",
   "mimetype": "text/x-python",
   "name": "python",
   "nbconvert_exporter": "python",
   "pygments_lexer": "ipython3",
   "version": "3.10.11"
  }
 },
 "nbformat": 4,
 "nbformat_minor": 5
}
